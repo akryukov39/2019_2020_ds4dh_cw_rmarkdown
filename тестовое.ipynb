{
  "nbformat": 4,
  "nbformat_minor": 0,
  "metadata": {
    "colab": {
      "name": "тестовое.ipynb",
      "provenance": [],
      "collapsed_sections": [],
      "include_colab_link": true
    },
    "kernelspec": {
      "name": "python3",
      "display_name": "Python 3"
    },
    "language_info": {
      "name": "python"
    }
  },
  "cells": [
    {
      "cell_type": "markdown",
      "metadata": {
        "id": "view-in-github",
        "colab_type": "text"
      },
      "source": [
        "<a href=\"https://colab.research.google.com/github/akryukov39/2019_2020_ds4dh_cw_rmarkdown/blob/master/%D1%82%D0%B5%D1%81%D1%82%D0%BE%D0%B2%D0%BE%D0%B5.ipynb\" target=\"_parent\"><img src=\"https://colab.research.google.com/assets/colab-badge.svg\" alt=\"Open In Colab\"/></a>"
      ]
    },
    {
      "cell_type": "markdown",
      "metadata": {
        "id": "DRg7HsJWQVow"
      },
      "source": [
        "# Тестовое задание\n",
        "## БД postgresql\n",
        "## Таблица сделок \"leads_amo_csv\":\n",
        "==============<br>\n",
        "<b> lead_id </b> - ID сделки <br>\n",
        "<b>created_at</b> - Дата открытия сделки <br>\n",
        "<b>updated_at</b> - Дата обновления сделки <br>\n",
        "<b>closed_at</b> - Дата закрытия сделки <br>\n",
        "<b>pipeline_id</b>  - ID этапа воронки <br>\n",
        "<b>status_id</b> - ID статуса <br>\n",
        "<b>loss_reason</b> - Причина отказа <br>\n",
        "<b>companies_id</b> - ID компании <br>\n",
        "<b>pipeline</b>  - Этап воронки(актуальный этап) <br>\n",
        "<b>status</b> - Статус(актуальный статус) <br>\n",
        "<b>contact_id </b> ID контакта<br>\n",
        "\n",
        "## Таблица истории звонков \"calls_amo_csv\":\n",
        "================<br>\n",
        "<b>contact_id </b> - ID контакта<br>\n",
        "<b> call_status </b> - Статус звонка<br>\n",
        "<b>\"call_result\" </b> - Результат звонка<br>\n",
        "<b> duration </b> - Длительность звонка<br>\n",
        "<b> created_at </b> - Дата звонка<br>\n",
        "\n",
        "## Таблица истории событий (изменеия этапов/статусов) \"events_amo_csv\":\n",
        "==============<br>\n",
        "<b> lead_id </b> - ID сделки <br>\n",
        "<b>created_at</b> - Дата создания события <br>\n",
        "<b>status_id_after</b> - ID статуса (следующий) <br>\n",
        "<b>pipeline_id_after</b> - ID этапа воронки (следующий) <br>\n",
        "<b>name_after</b>  - Этап воронки(следующий этап) <br>\n",
        "<b>name_status_after</b> - Статус(следующий статус) <br>\n",
        "<b>status_id_before</b> - ID статуса (предыдущий) <br>\n",
        "<b>pipeline_id_before</b> - ID этапа воронки (предыдущий) <br>\n",
        "<b>name_before</b>  - Этап воронки(предыдущий этап) <br>\n",
        "<b>name_status_before</b> - Статус(предыдущий статус) <br>\n",
        "\n",
        "\n",
        "# Задание:\n",
        "\n",
        "1. Нужно составить портрет среднестатистической  успешной / не успешной сделки\n",
        "2. Посмотреть есть ли зависимость между длительностью звонков и успешной / не успешной сделки\n",
        "\n",
        "### Примечание:\n",
        "\n",
        "1. Рассматриваем только 'Новые клиенты' (этап воронки)\n",
        "2. Берём данные только за 2021 год\n",
        "\n",
        "## Подключение:\n",
        "\n",
        " pg_connection = {\n",
        "        \"host\": \"168.119.252.246\",\n",
        "        \"port\":  5432,\n",
        "        \"dbname\": \"wazzup_db\",\n",
        "        \"user\": \"intern\",\n",
        "        \"password\": \"intern321\"\n",
        "    }\n",
        "\n",
        "\n",
        "### <strong>Результат пришлите ссылкой на google collab, проверьте что дали доступ на просмотр блокнота  </strong>"
      ]
    }
  ]
}